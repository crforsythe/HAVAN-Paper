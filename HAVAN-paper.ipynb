{
  "cells": [
    {
      "cell_type": "markdown",
      "id": "fd3033b6-f83e-4e94-bd1e-78d210d8749b",
      "metadata": {
        "id": "fd3033b6-f83e-4e94-bd1e-78d210d8749b"
      },
      "source": [
        "# Imports and helper functions"
      ]
    },
    {
      "cell_type": "code",
      "execution_count": null,
      "id": "1fe50f19-98c8-40b2-94a6-727025fbf9ae",
      "metadata": {
        "id": "1fe50f19-98c8-40b2-94a6-727025fbf9ae"
      },
      "outputs": [],
      "source": [
        "import torch\n",
        "import scipy\n",
        "import random\n",
        "import numpy as np\n",
        "import torch.nn as nn\n",
        "import torch.nn.functional as F\n",
        "from torch.utils.data import DataLoader\n",
        "from types import SimpleNamespace\n",
        "from tqdm import tqdm\n",
        "\n",
        "# Set seeds for reproducibility\n",
        "seed = 1\n",
        "random.seed(seed)\n",
        "np.random.seed(seed)\n",
        "torch.manual_seed(seed)\n",
        "torch.cuda.manual_seed_all(seed)\n",
        "torch.backends.cudnn.deterministic = True\n",
        "torch.backends.cudnn.benchmark = False\n",
        "\n",
        "def normalize(x, axis=0):\n",
        "    \"\"\" Normalize input across given axis. \"\"\"\n",
        "    x_max = np.max(x, axis=axis, keepdims=True)\n",
        "    x_min = np.min(x, axis=axis, keepdims=True)\n",
        "    return (x-x_min)/(x_max-x_min)\n",
        "\n",
        "def split(x, perc=0.2):\n",
        "    \"\"\" Split input into train/test subsets. \"\"\"\n",
        "    x = np.random.permutation(x)\n",
        "    return x[int(len(x)*perc):], x[:int(len(x)*perc)]\n",
        "\n",
        "def log_likelihood(y_pred, y_true):\n",
        "    \"\"\" Loss function. \"\"\"\n",
        "    r = torch.pow(y_pred, y_true)\n",
        "    r = torch.prod(r, axis=1)\n",
        "    return -torch.sum(torch.log(r))\n",
        "\n",
        "class ChoiceDataset(torch.utils.data.Dataset):\n",
        "    \"\"\" Formats dataset in PyTorch's standard. \"\"\"\n",
        "    def __init__(self, X, y):\n",
        "        self.X = torch.tensor(X).float()\n",
        "        self.y = torch.tensor(y).float()\n",
        "\n",
        "    def __len__(self):\n",
        "        return len(self.X)\n",
        "\n",
        "    def __getitem__(self, idx):\n",
        "        return self.X[idx], self.y[idx]"
      ]
    },
    {
      "cell_type": "markdown",
      "id": "41c7ee47-7ffb-4fdb-9e63-a4ac8d471db1",
      "metadata": {
        "id": "41c7ee47-7ffb-4fdb-9e63-a4ac8d471db1"
      },
      "source": [
        "## NN Models in Pytorch"
      ]
    },
    {
      "cell_type": "code",
      "execution_count": null,
      "id": "2e048091-f8b7-44ab-a6b6-41790e56fb54",
      "metadata": {
        "id": "2e048091-f8b7-44ab-a6b6-41790e56fb54"
      },
      "outputs": [],
      "source": [
        "class LogitLayer(nn.Sequential):\n",
        "    \"\"\" Standard mother logit layer \"\"\"\n",
        "    def __init__(self, n_attrs, n_units, dropout_rate):\n",
        "        super(LogitLayer, self).__init__(\n",
        "            nn.Linear(n_attrs, n_units),\n",
        "            nn.LayerNorm(n_units),\n",
        "            nn.LeakyReLU(),\n",
        "            nn.Dropout(dropout_rate)\n",
        "        )\n",
        "\n",
        "class HAVANLayer(nn.Module):\n",
        "    \"\"\" Implements our method. This is the layer where magic happens. \"\"\"\n",
        "    def __init__(self, n_moments, n_draws=1024):\n",
        "        super(HAVANLayer, self).__init__()\n",
        "        sobol_uniform = torch.tensor(scipy.stats.qmc.Sobol(n_moments, scramble=True).random(n_draws)).float()\n",
        "        self.draws = torch.pow(sobol_uniform, torch.arange(n_moments)).to(device)\n",
        "\n",
        "    def forward(self, x):\n",
        "        u = torch.einsum(\"npjk,rk -> npjr\", x, self.draws)\n",
        "        exp_u = torch.exp(u)\n",
        "        probabilities = exp_u/torch.sum(exp_u, axis=2, keepdim=True)\n",
        "        mean_probabilities = torch.mean(probabilities, axis=3)\n",
        "        return mean_probabilities\n",
        "\n",
        "class NN(nn.Module):\n",
        "    \"\"\" Network that integrates all the components. \"\"\"\n",
        "    def __init__(self, n_alts, n_attrs, config, use_havan=True):\n",
        "        super(NN, self).__init__()\n",
        "        self.logit_layer = LogitLayer(n_attrs, config.n_units, config.dropout_rate)\n",
        "        self.layers = nn.Sequential(*[LogitLayer(config.n_units, config.n_units, config.dropout_rate) \\\n",
        "                                      for _ in range(config.n_layers)])\n",
        "        self.moments = nn.Linear(config.n_units, config.n_moments)\n",
        "        if use_havan:\n",
        "            self.output = HAVANLayer(config.n_moments)\n",
        "        else:\n",
        "            self.output = nn.Sequential(nn.Flatten(2, 3),\n",
        "                                        nn.Linear(config.n_moments*n_alts, n_alts),\n",
        "                                        nn.Softmax(dim=-1))\n",
        "\n",
        "    def forward(self, x):\n",
        "        # x shape: (n_obs, n_panels, n_alts, n_attrs)\n",
        "        x = self.logit_layer(x)\n",
        "        x = self.layers(x)\n",
        "        x = F.leaky_relu(self.moments(x))\n",
        "        x = self.output(x)\n",
        "        return x"
      ]
    },
    {
      "cell_type": "markdown",
      "id": "3747d0cb-5dc5-40b3-8e3b-5166613dc338",
      "metadata": {
        "id": "3747d0cb-5dc5-40b3-8e3b-5166613dc338"
      },
      "source": [
        "## Generate data"
      ]
    },
    {
      "cell_type": "markdown",
      "id": "b00bb738-86ec-46fc-9b21-e0b5702f733d",
      "metadata": {
        "id": "b00bb738-86ec-46fc-9b21-e0b5702f733d"
      },
      "source": [
        "We use the data generation process shown below:\n",
        "\n",
        "$$\n",
        "        \\begin{equation}\n",
        "            u_{ijk} = \\beta_{i0}^{x_0}+x_1 e^{\\beta_{i1}} +x_2\\beta_{i2} + \\epsilon_{ijk}\n",
        "        \\end{equation}\n",
        "$$"
      ]
    },
    {
      "cell_type": "markdown",
      "id": "9009b726-f1e4-4cb3-b24f-a843308a4f61",
      "metadata": {
        "id": "9009b726-f1e4-4cb3-b24f-a843308a4f61"
      },
      "source": [
        "$$\n",
        "        \\begin{equation}\n",
        "            \\begin{split}\n",
        "                \\beta_{i0} &\\sim Uniform(1,2) \\\\\n",
        "                \\begin{bmatrix}\n",
        "                    \\beta_{i1} \\\\\n",
        "                    \\beta_{i2} \\\\\n",
        "                \\end{bmatrix}\n",
        "                &\\sim\n",
        "                 Normal \\left(\\begin{bmatrix} 0 \\\\3 \\end{bmatrix}, \\begin{bmatrix} 0.5 & 0.25 \\\\ 0.25 & 1 \\end{bmatrix} \\right)\n",
        "                \\\\\n",
        "                x_0, x_1, x_2  &\\sim Uniform(-1,1)\n",
        "            \\end{split}\n",
        "        \\end{equation}\n",
        "$$"
      ]
    },
    {
      "cell_type": "markdown",
      "id": "Z8IZUhKwpcUu",
      "metadata": {
        "id": "Z8IZUhKwpcUu"
      },
      "source": [
        "Additionally, $\\beta_{i2}$ has a 50\\% chance of being negated, thus $\\beta_{i2}$ is a mixture of two normal distribution (i.e. is bi-modal)"
      ]
    },
    {
      "cell_type": "code",
      "execution_count": null,
      "id": "637dfb63-c217-419d-bbe9-c0e40e193352",
      "metadata": {
        "id": "637dfb63-c217-419d-bbe9-c0e40e193352"
      },
      "outputs": [],
      "source": [
        "def generate_dataset(n_indiv=10_000, n_attr=3, n_alt=3, n_panels=10):\n",
        "    mu = np.array([0.0, 3.0])\n",
        "    omega = np.array([[0.5, .25], [.25, 1.0]])\n",
        "\n",
        "    # Generate coefficients\n",
        "    coeff = np.hstack((np.random.uniform(low=1, high=2, size=(n_indiv, 1)),\n",
        "                       np.random.multivariate_normal(mu, omega, n_indiv)))\n",
        "\n",
        "    negated_idx = np.random.choice(n_indiv, n_indiv//2, replace=False)\n",
        "    coeff[:, 2][negated_idx] *= -1\n",
        "\n",
        "    # Generate x_i data\n",
        "    X = np.random.uniform(low=-1, high=1, size=(n_indiv*n_panels*n_alt, n_attr))\n",
        "    X = X.reshape(n_indiv, n_panels, n_alt, n_attr)\n",
        "\n",
        "    # Compute utilities\n",
        "    V = (np.power(coeff[:, None, None, 0], X[:, :, :, 0]) +\n",
        "         X[:, :, :, 1]*np.exp(coeff[:, None, None, 1]) +\n",
        "         X[:, :, :, 2]*coeff[:, None, None, 2])\n",
        "\n",
        "    # Compute probabilities\n",
        "    eV = np.exp(V)\n",
        "    proba = eV/eV.sum(axis=2, keepdims=True)\n",
        "\n",
        "    # Simulate Choices\n",
        "    y = np.apply_along_axis(lambda p: np.random.choice(n_alt, p=p), 1, proba.reshape(-1, n_alt))\n",
        "    y = (np.eye(n_alt)[y]).reshape(n_indiv, n_panels, n_alt)\n",
        "    return X, y\n",
        "\n",
        "def split_dataset(X, y, eval_perc=.2):\n",
        "    train_idx, eval_idx = split(np.arange(len(X)), perc=eval_perc)\n",
        "    return X[train_idx], X[eval_idx], y[train_idx], y[eval_idx]"
      ]
    },
    {
      "cell_type": "markdown",
      "id": "66424de3-cf8a-4c83-a10f-20a12f7464fc",
      "metadata": {
        "id": "66424de3-cf8a-4c83-a10f-20a12f7464fc"
      },
      "source": [
        "# Training function"
      ]
    },
    {
      "cell_type": "code",
      "execution_count": null,
      "id": "4c945161-2a89-4f06-86ea-d265e9e1ccbc",
      "metadata": {
        "id": "4c945161-2a89-4f06-86ea-d265e9e1ccbc",
        "scrolled": true
      },
      "outputs": [],
      "source": [
        "def train(model, train_data, eval_data, n_epochs, lr, batch_size):\n",
        "    train_loader = DataLoader(train_data, batch_size=batch_size)\n",
        "    eval_loader = DataLoader(eval_data, batch_size=batch_size)\n",
        "\n",
        "    optimizer = torch.optim.Adam(model.parameters(), lr=lr)\n",
        "\n",
        "    history = {'train': [], 'eval': []}\n",
        "    for epoch in tqdm(range(n_epochs)):\n",
        "        # Training\n",
        "        model.train()\n",
        "        for batch in train_loader:\n",
        "            X_batch, y_batch = [d.to(device) for d in batch]\n",
        "            optimizer.zero_grad()\n",
        "            outputs = model(X_batch)\n",
        "            loss = log_likelihood(outputs, y_batch)\n",
        "            loss.backward()\n",
        "            optimizer.step()\n",
        "            torch.nn.utils.clip_grad_norm_(model.parameters(), 1.0)\n",
        "            history['train'].append({'epoch': epoch,'loss': loss.item()})\n",
        "\n",
        "        # Evaluation\n",
        "        model.eval()\n",
        "        with torch.no_grad():\n",
        "            for batch in eval_loader:\n",
        "                X_batch, y_batch = [d.to(device) for d in batch]\n",
        "                outputs = model(X_batch)\n",
        "                loss = log_likelihood(outputs, y_batch)\n",
        "                history['eval'].append({'epoch': epoch, 'loss': loss.item()})\n",
        "    return history"
      ]
    },
    {
      "cell_type": "markdown",
      "id": "y9JUERSDlJGc",
      "metadata": {
        "id": "y9JUERSDlJGc"
      },
      "source": [
        "# Run robustness test"
      ]
    },
    {
      "cell_type": "code",
      "execution_count": null,
      "id": "deb3f5cf-b07a-415e-a736-023ea2f0cb6f",
      "metadata": {
        "id": "deb3f5cf-b07a-415e-a736-023ea2f0cb6f",
        "outputId": "ae95da65-a5c4-41bb-9553-8453872027ba"
      },
      "outputs": [
        {
          "name": "stderr",
          "output_type": "stream",
          "text": [
            "100%|██████████| 2000/2000 [02:05<00:00, 15.89it/s]\n",
            "100%|██████████| 2000/2000 [01:02<00:00, 32.07it/s]\n",
            "100%|██████████| 2000/2000 [02:06<00:00, 15.84it/s]\n",
            "100%|██████████| 2000/2000 [01:02<00:00, 31.89it/s]\n",
            "100%|██████████| 2000/2000 [01:02<00:00, 31.86it/s]\n",
            "100%|██████████| 2000/2000 [02:06<00:00, 15.79it/s]\n",
            "100%|██████████| 2000/2000 [01:02<00:00, 31.75it/s]\n",
            "100%|██████████| 2000/2000 [02:06<00:00, 15.78it/s]\n",
            "100%|██████████| 2000/2000 [01:03<00:00, 31.71it/s]\n",
            "100%|██████████| 2000/2000 [02:06<00:00, 15.77it/s]\n",
            "100%|██████████| 2000/2000 [01:03<00:00, 31.62it/s]\n",
            "100%|██████████| 2000/2000 [02:07<00:00, 15.74it/s]\n",
            "100%|██████████| 2000/2000 [01:03<00:00, 31.57it/s]\n",
            "100%|██████████| 2000/2000 [02:07<00:00, 15.73it/s]\n",
            "100%|██████████| 2000/2000 [01:03<00:00, 31.48it/s]\n",
            "100%|██████████| 2000/2000 [02:07<00:00, 15.71it/s]\n",
            "100%|██████████| 2000/2000 [01:03<00:00, 31.50it/s]\n",
            "100%|██████████| 2000/2000 [02:07<00:00, 15.69it/s]\n",
            "100%|██████████| 2000/2000 [01:03<00:00, 31.36it/s]\n",
            "100%|██████████| 2000/2000 [02:07<00:00, 15.69it/s]\n",
            "100%|██████████| 2000/2000 [01:03<00:00, 31.36it/s]\n",
            "100%|██████████| 2000/2000 [02:07<00:00, 15.68it/s]\n",
            "100%|██████████| 2000/2000 [01:03<00:00, 31.26it/s]\n",
            "100%|██████████| 2000/2000 [02:07<00:00, 15.67it/s]\n",
            "100%|██████████| 2000/2000 [01:03<00:00, 31.27it/s]\n",
            "100%|██████████| 2000/2000 [02:07<00:00, 15.63it/s]\n",
            "100%|██████████| 2000/2000 [01:04<00:00, 31.14it/s]\n",
            "100%|██████████| 2000/2000 [02:07<00:00, 15.64it/s]\n",
            "100%|██████████| 2000/2000 [01:04<00:00, 31.15it/s]\n",
            "100%|██████████| 2000/2000 [02:08<00:00, 15.60it/s]\n",
            "100%|██████████| 2000/2000 [01:04<00:00, 31.02it/s]\n",
            "100%|██████████| 2000/2000 [02:08<00:00, 15.59it/s]\n",
            "100%|██████████| 2000/2000 [01:04<00:00, 30.88it/s]\n",
            "100%|██████████| 2000/2000 [02:08<00:00, 15.57it/s]\n",
            "100%|██████████| 2000/2000 [01:04<00:00, 30.88it/s]\n",
            "100%|██████████| 2000/2000 [02:08<00:00, 15.54it/s]\n",
            "100%|██████████| 2000/2000 [01:04<00:00, 30.82it/s]\n",
            "100%|██████████| 2000/2000 [02:08<00:00, 15.53it/s]\n",
            "100%|██████████| 2000/2000 [01:05<00:00, 30.76it/s]\n"
          ]
        }
      ],
      "source": [
        "n_trials = 20\n",
        "n_indiv = 10_000\n",
        "n_attr = 3\n",
        "n_alt = 3\n",
        "n_panels = 10\n",
        "n_epochs = 2_000\n",
        "device = 'cuda:0'\n",
        "config = SimpleNamespace(**dict(n_layers=2, n_units=64, n_moments=6, dropout_rate=0.25, lr=1e-3))\n",
        "\n",
        "history_classic, history_havan = [], []\n",
        "for i in range(n_trials):\n",
        "    X, y = generate_dataset(n_indiv=n_indiv, n_attr=n_attr, n_alt=n_alt, n_panels=n_panels)\n",
        "    X_train, X_eval, y_train, y_eval = split_dataset(X, y)\n",
        "    train_data, eval_data = ChoiceDataset(X_train, y_train), ChoiceDataset(X_eval, y_eval)\n",
        "\n",
        "    model = NN(n_alts=n_alt, n_attrs=n_attr, config=config, use_havan=True).to(device)\n",
        "    history = train(model, train_data, eval_data, n_epochs=n_epochs, lr=config.lr, batch_size=len(y_eval))\n",
        "    history_havan.append(history)\n",
        "\n",
        "    model = NN(n_alts=n_alt, n_attrs=n_attr, config=config, use_havan=False).to(device)\n",
        "    history = train(model, train_data, eval_data, n_epochs=n_epochs, lr=config.lr, batch_size=len(y_eval))\n",
        "    history_classic.append(history)"
      ]
    },
    {
      "cell_type": "code",
      "execution_count": null,
      "id": "ff856ee6-dedc-4f07-9a9a-fe4ef1e1e6ee",
      "metadata": {
        "id": "ff856ee6-dedc-4f07-9a9a-fe4ef1e1e6ee",
        "outputId": "d4f3a82d-a462-479c-b11e-708651db968e"
      },
      "outputs": [
        {
          "data": {
            "image/png": "[encoded data removed]",
            "text/plain": [
              "<Figure size 640x480 with 1 Axes>"
            ]
          },
          "metadata": {},
          "output_type": "display_data"
        }
      ],
      "source": [
        "import matplotlib.pyplot as plt\n",
        "for h in history_classic:\n",
        "    plt.plot([x['loss'] for x in h['eval']], 'tab:orange')\n",
        "\n",
        "for h in history_havan:\n",
        "    plt.plot([x['loss'] for x in h['eval']], 'tab:blue')\n",
        "\n",
        "plt.xlabel(\"Epoch\")\n",
        "plt.ylabel(\"Log-likelihood\")\n",
        "plt.show()"
      ]
    }
  ],
  "metadata": {
    "colab": {
      "provenance": []
    },
    "kernelspec": {
      "display_name": "hf",
      "language": "python",
      "name": "myenv"
    },
    "language_info": {
      "codemirror_mode": {
        "name": "ipython",
        "version": 3
      },
      "file_extension": ".py",
      "mimetype": "text/x-python",
      "name": "python",
      "nbconvert_exporter": "python",
      "pygments_lexer": "ipython3",
      "version": "3.11.7"
    }
  },
  "nbformat": 4,
  "nbformat_minor": 5
}